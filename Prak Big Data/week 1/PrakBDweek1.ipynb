{
 "cells": [
  {
   "cell_type": "code",
   "execution_count": 1,
   "id": "08999359-b36e-4688-a382-ff90f7662c78",
   "metadata": {},
   "outputs": [],
   "source": [
    "import findspark\n",
    "findspark.init()"
   ]
  },
  {
   "cell_type": "code",
   "execution_count": 2,
   "id": "3bc35e54-5225-44ac-8efc-558ef7316084",
   "metadata": {},
   "outputs": [
    {
     "name": "stdout",
     "output_type": "stream",
     "text": [
      "+-----+----+--------------+-------------+------+\n",
      "| Nama|Usia|     Pekerjaan|         Hobi|Gender|\n",
      "+-----+----+--------------+-------------+------+\n",
      "|David|  20|UI/UX Designer|   Sepak Bola|     L|\n",
      "|  Ali|  34| Web Developer|      Mancing|     L|\n",
      "| Budi|  23|  Data Analist|Editing Video|     L|\n",
      "|Citra|  29|         Dosen|    Fotografi|     P|\n",
      "| Dina|  45|     Wirausaha|      Membaca|     P|\n",
      "+-----+----+--------------+-------------+------+\n",
      "\n"
     ]
    }
   ],
   "source": [
    "#Tugas 1\n",
    "from pyspark.sql import SparkSession\n",
    "\n",
    "# Memulai Spark session\n",
    "spark = SparkSession.builder.appName(\"BigDataPractice\").getOrCreate()\n",
    "\n",
    "# Membuat DataFrame sederhana\n",
    "data = [(\"David\", 20, \"UI/UX Designer\", \"Sepak Bola\", \"L\"), (\"Ali\", 34, \"Web Developer\", \"Mancing\", \"L\"), (\"Budi\", 23, \"Data Analist\", \"Editing Video\", \"L\"), (\"Citra\", 29, \"Dosen\", \"Fotografi\", \"P\"), (\"Dina\", 45, \"Wirausaha\", \"Membaca\", \"P\")]\n",
    "columns = [\"Nama\", \"Usia\", \"Pekerjaan\", \"Hobi\", \"Gender\"]\n",
    "df = spark.createDataFrame(data, columns)\n",
    "\n",
    "# Menampilkan DataFrame\n",
    "df.show()"
   ]
  },
  {
   "cell_type": "code",
   "execution_count": 3,
   "id": "f03bc1d5-f464-4903-866e-fc71de6baf37",
   "metadata": {},
   "outputs": [
    {
     "name": "stdout",
     "output_type": "stream",
     "text": [
      "Menampilkan DataFrame\n",
      "+-----+----+--------------+-------------+------+\n",
      "| Nama|Usia|     Pekerjaan|         Hobi|Gender|\n",
      "+-----+----+--------------+-------------+------+\n",
      "|David|  20|UI/UX Designer|   Sepak Bola|     L|\n",
      "|  Ali|  34| Web Developer|      Mancing|     L|\n",
      "| Budi|  23|  Data Analist|Editing Video|     L|\n",
      "|Citra|  29|         Dosen|    Fotografi|     P|\n",
      "| Dina|  45|     Wirausaha|      Membaca|     P|\n",
      "+-----+----+--------------+-------------+------+\n",
      "\n",
      "Filtering data\n",
      "+-----+----+--------------+-------------+------+\n",
      "| Nama|Usia|     Pekerjaan|         Hobi|Gender|\n",
      "+-----+----+--------------+-------------+------+\n",
      "|David|  20|UI/UX Designer|   Sepak Bola|     L|\n",
      "| Budi|  23|  Data Analist|Editing Video|     L|\n",
      "+-----+----+--------------+-------------+------+\n",
      "\n",
      "Menghitung rata-rata usia\n",
      "+---------+\n",
      "|avg(Usia)|\n",
      "+---------+\n",
      "|     30.2|\n",
      "+---------+\n",
      "\n",
      "Mengurutkan data berdasarkan nama\n",
      "+-----+----+--------------+-------------+------+\n",
      "| Nama|Usia|     Pekerjaan|         Hobi|Gender|\n",
      "+-----+----+--------------+-------------+------+\n",
      "|  Ali|  34| Web Developer|      Mancing|     L|\n",
      "| Budi|  23|  Data Analist|Editing Video|     L|\n",
      "|Citra|  29|         Dosen|    Fotografi|     P|\n",
      "|David|  20|UI/UX Designer|   Sepak Bola|     L|\n",
      "| Dina|  45|     Wirausaha|      Membaca|     P|\n",
      "+-----+----+--------------+-------------+------+\n",
      "\n"
     ]
    }
   ],
   "source": [
    "#Tugas 2\n",
    "from pyspark.sql import SparkSession\n",
    "\n",
    "# Memulai Spark session\n",
    "spark = SparkSession.builder.appName(\"BigDataPractice\").getOrCreate()\n",
    "\n",
    "# Membuat DataFrame sederhana\n",
    "data = [(\"David\", 20, \"UI/UX Designer\", \"Sepak Bola\", \"L\"), (\"Ali\", 34, \"Web Developer\", \"Mancing\", \"L\"), (\"Budi\", 23, \"Data Analist\", \"Editing Video\", \"L\"), (\"Citra\", 29, \"Dosen\", \"Fotografi\", \"P\"), (\"Dina\", 45, \"Wirausaha\", \"Membaca\", \"P\")]\n",
    "columns = [\"Nama\", \"Usia\", \"Pekerjaan\", \"Hobi\", \"Gender\"]\n",
    "df = spark.createDataFrame(data, columns)\n",
    "\n",
    "# Menampilkan DataFrame\n",
    "print(\"Menampilkan DataFrame\")\n",
    "df.show()\n",
    "\n",
    "# Filtering data\n",
    "print(\"Filtering data\")\n",
    "df_filtered = df.filter(df['Usia'] < 28)\n",
    "df_filtered.show()\n",
    "\n",
    "# Menghitung rata-rata usia\n",
    "print(\"Menghitung rata-rata usia\")\n",
    "from pyspark.sql.functions import avg\n",
    "df.groupBy().agg(avg(\"Usia\")).show()\n",
    "\n",
    "# Mengurutkan data berdasarkan nama\n",
    "print(\"Mengurutkan data berdasarkan nama\")\n",
    "df_sorted = df.orderBy(\"Nama\", descending=False)\n",
    "df_sorted.show()"
   ]
  },
  {
   "cell_type": "code",
   "execution_count": 4,
   "id": "5ef44745-abf5-430d-bf1d-8d61cfa60323",
   "metadata": {},
   "outputs": [
    {
     "name": "stdout",
     "output_type": "stream",
     "text": [
      "    Nama  Usia   Asal Kota\n",
      "0  David    20   Purworejo\n",
      "1    Ali    34    Magelang\n",
      "2   Budi    23     Bandung\n",
      "3  Citra    29  Yogyakarta\n",
      "4   Dina    45   Tangerang\n",
      "\n",
      "Filtering data berdasarkan usia:\n"
     ]
    },
    {
     "data": {
      "text/html": [
       "<div>\n",
       "<style scoped>\n",
       "    .dataframe tbody tr th:only-of-type {\n",
       "        vertical-align: middle;\n",
       "    }\n",
       "\n",
       "    .dataframe tbody tr th {\n",
       "        vertical-align: top;\n",
       "    }\n",
       "\n",
       "    .dataframe thead th {\n",
       "        text-align: right;\n",
       "    }\n",
       "</style>\n",
       "<table border=\"1\" class=\"dataframe\">\n",
       "  <thead>\n",
       "    <tr style=\"text-align: right;\">\n",
       "      <th></th>\n",
       "      <th>Nama</th>\n",
       "      <th>Usia</th>\n",
       "      <th>Asal Kota</th>\n",
       "    </tr>\n",
       "  </thead>\n",
       "  <tbody>\n",
       "    <tr>\n",
       "      <th>1</th>\n",
       "      <td>Ali</td>\n",
       "      <td>34</td>\n",
       "      <td>Magelang</td>\n",
       "    </tr>\n",
       "    <tr>\n",
       "      <th>3</th>\n",
       "      <td>Citra</td>\n",
       "      <td>29</td>\n",
       "      <td>Yogyakarta</td>\n",
       "    </tr>\n",
       "    <tr>\n",
       "      <th>4</th>\n",
       "      <td>Dina</td>\n",
       "      <td>45</td>\n",
       "      <td>Tangerang</td>\n",
       "    </tr>\n",
       "  </tbody>\n",
       "</table>\n",
       "</div>"
      ],
      "text/plain": [
       "    Nama  Usia   Asal Kota\n",
       "1    Ali    34    Magelang\n",
       "3  Citra    29  Yogyakarta\n",
       "4   Dina    45   Tangerang"
      ]
     },
     "execution_count": 4,
     "metadata": {},
     "output_type": "execute_result"
    }
   ],
   "source": [
    "#Tugas 3\n",
    "import pandas as pd\n",
    "\n",
    "# Membuat DataFrame Pandas\n",
    "data_pandas = {\"Nama\": [\"David\", \"Ali\", \"Budi\", \"Citra\", \"Dina\"], \"Usia\": [20, 34, 23, 29, 45], \"Asal Kota\": [\"Purworejo\", \"Magelang\", \"Bandung\", \"Yogyakarta\", \"Tangerang\"]}\n",
    "df_pandas = pd.DataFrame(data_pandas)\n",
    "\n",
    "# Menampilkan DataFrame Pandas \n",
    "print(df_pandas)\n",
    "print()\n",
    "\n",
    "print(\"Filtering data berdasarkan usia:\")\n",
    "# Filtering data berdasarkan usia  \n",
    "df_filter = df_pandas[df_pandas[\"Usia\"] >= 29]  \n",
    "\n",
    "# Menampilkan DataFrame yang telah difilter  \n",
    "df_filter = pd.DataFrame(df_filter)\n",
    "df_filter"
   ]
  },
  {
   "cell_type": "code",
   "execution_count": 29,
   "id": "5af42b53-600f-4258-9c8a-65e6284f1bdb",
   "metadata": {},
   "outputs": [
    {
     "name": "stdout",
     "output_type": "stream",
     "text": [
      "    Nama  Usia       Pekerjaan\n",
      "0  David    20  UI/UX Designer\n",
      "1    Ali    34   Web Developer\n",
      "2   Budi    23    Data Analist\n",
      "3  Citra    29           Dosen\n",
      "4   Dina    45       Wirausaha\n",
      "            Usia\n",
      "count   5.000000\n",
      "mean   30.200000\n",
      "std     9.884331\n",
      "min    20.000000\n",
      "25%    23.000000\n",
      "50%    29.000000\n",
      "75%    34.000000\n",
      "max    45.000000\n"
     ]
    },
    {
     "data": {
      "image/png": "[encoded data removed]",
      "text/plain": [
       "<Figure size 640x480 with 1 Axes>"
      ]
     },
     "metadata": {},
     "output_type": "display_data"
    },
    {
     "data": {
      "image/png": "[encoded data removed]",
      "text/plain": [
       "<Figure size 640x480 with 1 Axes>"
      ]
     },
     "metadata": {},
     "output_type": "display_data"
    }
   ],
   "source": [
    "#Tugas 4\n",
    "import pandas as pd\n",
    "\n",
    "# Membuat DataFrame Pandas\n",
    "data_pandas = {\"Nama\": [\"David\", \"Ali\", \"Budi\", \"Citra\", \"Dina\"], \"Usia\": [20, 34, 23, 29, 45]}\n",
    "df_pandas = pd.DataFrame(data_pandas)\n",
    "\n",
    "# Membuat DataFrame kedua\n",
    "data_pandas_2 = {\"Nama\": [\"David\", \"Ali\", \"Budi\", \"Citra\", \"Dina\"], \"Pekerjaan\": [\"UI/UX Designer\", \"Web Developer\", \"Data Analist\", \"Dosen\", \"Wirausaha\"]}\n",
    "df_pandas_2 = pd.DataFrame(data_pandas_2)\n",
    "\n",
    "# Join antara dua DataFrame\n",
    "df_joined = pd.merge(df_pandas, df_pandas_2, on=\"Nama\")\n",
    "print(df_joined)\n",
    "\n",
    "data_pekerjaan= df_joined['Pekerjaan'].value_counts()\n",
    "\n",
    "# Menghitung statistik deskriptif\n",
    "print(df_pandas.describe())\n",
    "\n",
    "# Plotting Data usia\n",
    "import matplotlib.pyplot as plt\n",
    "df_pandas['Usia'].plot(kind='bar')\n",
    "plt.title('Data Usia')\n",
    "plt.xlabel('Nama')\n",
    "plt.ylabel('Usia')\n",
    "plt.xticks(ticks=range(len(df_pandas)), labels=df_pandas['Nama'], rotation=0)\n",
    "plt.show()\n",
    "\n",
    "#Plotting data pekerjaan\n",
    "data_pekerjaan.plot(kind='bar', color='magenta')\n",
    "plt.title('Data Pekerjaan')\n",
    "plt.xlabel('Pekerjaan')\n",
    "plt.ylabel('Jumlah Orang')\n",
    "plt.xticks(rotation=0)\n",
    "plt.show()"
   ]
  },
  {
   "cell_type": "code",
   "execution_count": 45,
   "id": "8af17b06-e23f-44e4-bbb7-9b5e15b9b43b",
   "metadata": {},
   "outputs": [
    {
     "name": "stdout",
     "output_type": "stream",
     "text": [
      "+-----+----+\n",
      "| Nama|Usia|\n",
      "+-----+----+\n",
      "|David|  20|\n",
      "|  Ali|  34|\n",
      "| Budi|  23|\n",
      "|Citra|  29|\n",
      "| Dina|  45|\n",
      "+-----+----+\n",
      "\n",
      "    Nama  Usia       Pekerjaan           Hobi Gender\n",
      "0  David    20  UI/UX Designer     Sepak Bola      L\n",
      "1    Ali    34   Web Developer        Mancing      L\n",
      "2   Budi    23    Data Analist  Editing Video      L\n",
      "3  Citra    29           Dosen      Fotografi      P\n",
      "4   Dina    45       Wirausaha        Membaca      P\n",
      "\n",
      "Gabungan data dari pandas dan spark:\n",
      "+-----+------+--------------+-------------+------+------+\n",
      "| Nama|Usia_x|     Pekerjaan|         Hobi|Gender|Usia_y|\n",
      "+-----+------+--------------+-------------+------+------+\n",
      "|David|    20|UI/UX Designer|   Sepak Bola|     L|    20|\n",
      "|  Ali|    34| Web Developer|      Mancing|     L|    34|\n",
      "| Budi|    23|  Data Analist|Editing Video|     L|    23|\n",
      "|Citra|    29|         Dosen|    Fotografi|     P|    29|\n",
      "| Dina|    45|     Wirausaha|      Membaca|     P|    45|\n",
      "+-----+------+--------------+-------------+------+------+\n",
      "\n",
      "Rata-rata usia: 30.2\n"
     ]
    }
   ],
   "source": [
    "#Tugas 5\n",
    "\n",
    "# Mengonversi DataFrame dari PySpark ke Pandas\n",
    "df_pandas_from_spark = df.toPandas()\n",
    "\n",
    "# Mengonversi DataFrame dari Pandas ke PySpark\n",
    "df_spark_from_pandas = spark.createDataFrame(df_pandas)\n",
    "\n",
    "# Menampilkan DataFrame hasil konversi\n",
    "df_spark_from_pandas.show()\n",
    "print(df_pandas_from_spark)\n",
    "\n",
    "#Menggagubangkan DataFrame\n",
    "df_combined_pandas = pd.merge(df_pandas_from_spark, df_pandas, on=\"Nama\", how=\"left\")\n",
    "\n",
    "df_combined_spark = spark.createDataFrame(df_combined_pandas)\n",
    "\n",
    "#Menampilkan data gabungan\n",
    "print()\n",
    "print(\"Gabungan data dari pandas dan spark:\")\n",
    "df_combined_spark.show()\n",
    "\n",
    "#Menghitung rata-rata usia\n",
    "avg_usia = df_pandas_from_spark['Usia'].mean()\n",
    "print(f\"Rata-rata usia: {avg_usia}\")\n"
   ]
  },
  {
   "cell_type": "code",
   "execution_count": 46,
   "id": "e549ece3-d3cf-4f3e-b488-6666131f71a5",
   "metadata": {},
   "outputs": [
    {
     "name": "stdout",
     "output_type": "stream",
     "text": [
      "+-----+----+\n",
      "| Nama|Usia|\n",
      "+-----+----+\n",
      "|David|  20|\n",
      "|  Ali|  34|\n",
      "| Budi|  23|\n",
      "|Citra|  29|\n",
      "| Dina|  45|\n",
      "+-----+----+\n",
      "\n",
      "    Nama  Usia       Pekerjaan           Hobi Gender\n",
      "0  David    20  UI/UX Designer     Sepak Bola      L\n",
      "1    Ali    34   Web Developer        Mancing      L\n",
      "2   Budi    23    Data Analist  Editing Video      L\n",
      "3  Citra    29           Dosen      Fotografi      P\n",
      "4   Dina    45       Wirausaha        Membaca      P\n",
      "\n",
      "Gabungan data dari pandas dan spark:\n",
      "+-----+------+--------------+-------------+------+------+\n",
      "| Nama|Usia_x|     Pekerjaan|         Hobi|Gender|Usia_y|\n",
      "+-----+------+--------------+-------------+------+------+\n",
      "|David|    20|UI/UX Designer|   Sepak Bola|     L|    20|\n",
      "|  Ali|    34| Web Developer|      Mancing|     L|    34|\n",
      "| Budi|    23|  Data Analist|Editing Video|     L|    23|\n",
      "|Citra|    29|         Dosen|    Fotografi|     P|    29|\n",
      "| Dina|    45|     Wirausaha|      Membaca|     P|    45|\n",
      "+-----+------+--------------+-------------+------+------+\n",
      "\n",
      "Nilai maksimum usia di Pandas: 45\n"
     ]
    }
   ],
   "source": [
    "#Tugas 6\n",
    "\n",
    "# Mengonversi DataFrame dari PySpark ke Pandas\n",
    "df_pandas_from_spark = df.toPandas()\n",
    "\n",
    "# Mengonversi DataFrame dari Pandas ke PySpark\n",
    "df_spark_from_pandas = spark.createDataFrame(df_pandas)\n",
    "\n",
    "# Menampilkan DataFrame hasil konversi\n",
    "df_spark_from_pandas.show()\n",
    "print(df_pandas_from_spark)\n",
    "\n",
    "#Menggagubangkan DataFrame\n",
    "df_combined_pandas = pd.merge(df_pandas_from_spark, df_pandas, on=\"Nama\", how=\"left\")\n",
    "\n",
    "df_combined_spark = spark.createDataFrame(df_combined_pandas)\n",
    "\n",
    "#Menampilkan data gabungan\n",
    "print()\n",
    "print(\"Gabungan data dari pandas dan spark:\")\n",
    "df_combined_spark.show()\n",
    "\n",
    "# Menghitung nilai maksimum dari kolom \"Usia\"\n",
    "max_usia = df_pandas_from_spark[\"Usia\"].max()\n",
    "print(f\"Nilai maksimum usia di Pandas: {max_usia}\")\n"
   ]
  },
  {
   "cell_type": "code",
   "execution_count": null,
   "id": "1ee7d8a4-c6ef-42b1-b55d-e62c254a0bf7",
   "metadata": {},
   "outputs": [],
   "source": []
  }
 ],
 "metadata": {
  "kernelspec": {
   "display_name": "Python 3 (ipykernel)",
   "language": "python",
   "name": "python3"
  },
  "language_info": {
   "codemirror_mode": {
    "name": "ipython",
    "version": 3
   },
   "file_extension": ".py",
   "mimetype": "text/x-python",
   "name": "python",
   "nbconvert_exporter": "python",
   "pygments_lexer": "ipython3",
   "version": "3.11.9"
  }
 },
 "nbformat": 4,
 "nbformat_minor": 5
}
