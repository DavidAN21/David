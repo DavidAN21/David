{
 "cells": [
  {
   "cell_type": "code",
   "execution_count": 1,
   "id": "91131028-aaac-4ac6-9801-1e017be143f2",
   "metadata": {},
   "outputs": [
    {
     "name": "stdout",
     "output_type": "stream",
     "text": [
      "{'Aku': 2, 'adalah': 1, 'lelaki': 1, 'yang': 1, 'dingin': 1, 'tetapi': 1, 'tidak': 1, 'kejam,': 1, 'itulah': 1}\n"
     ]
    }
   ],
   "source": [
    "from collections import defaultdict\n",
    "\n",
    "def map_function(text):\n",
    "   for word in text.split():\n",
    "       yield (word, 1)\n",
    "\n",
    "\n",
    "def reduce_function(pairs):\n",
    "    result = defaultdict(int)\n",
    "    for word, count in pairs:\n",
    "        result[word] += count\n",
    "    return result\n",
    "\n",
    "\n",
    "\n",
    "ea = \"Aku adalah lelaki yang dingin tetapi tidak kejam, itulah Aku\"  \n",
    "\n",
    "\n",
    "pasangan = map_function(ea)  \n",
    "hitkata = reduce_function(pasangan)  \n",
    "print(dict (hitkata)) \n"
   ]
  },
  {
   "cell_type": "code",
   "execution_count": null,
   "id": "4ab7aa17-80f0-4677-9430-e7a16c228ea5",
   "metadata": {},
   "outputs": [],
   "source": []
  }
 ],
 "metadata": {
  "kernelspec": {
   "display_name": "Python 3 (ipykernel)",
   "language": "python",
   "name": "python3"
  },
  "language_info": {
   "codemirror_mode": {
    "name": "ipython",
    "version": 3
   },
   "file_extension": ".py",
   "mimetype": "text/x-python",
   "name": "python",
   "nbconvert_exporter": "python",
   "pygments_lexer": "ipython3",
   "version": "3.12.4"
  }
 },
 "nbformat": 4,
 "nbformat_minor": 5
}
